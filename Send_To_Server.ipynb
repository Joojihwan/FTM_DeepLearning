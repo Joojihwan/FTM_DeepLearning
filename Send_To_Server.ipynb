{
 "cells": [
  {
   "cell_type": "code",
   "execution_count": 5,
   "metadata": {},
   "outputs": [
    {
     "name": "stdout",
     "output_type": "stream",
     "text": [
      "(169, 21)\n"
     ]
    }
   ],
   "source": [
    "import pandas as pd\n",
    "\n",
    "df = pd.read_csv(\"Seoul_To_Send.csv\", encoding = \"euc-kr\")\n",
    "date = df['Unnamed: 0']\n",
    "data = df.values\n",
    "print(data.shape)"
   ]
  },
  {
   "cell_type": "code",
   "execution_count": 6,
   "metadata": {},
   "outputs": [],
   "source": [
    "import requests                  # 웹 페이지의 HTML을 가져오는 모듈\n",
    "from bs4 import BeautifulSoup    # HTML을 파싱하는 모듈\n",
    "\n",
    "for i in range (0,167):\n",
    "    n = 5\n",
    "    for j in range (1,21):\n",
    "        #print('0' + str((int(date[i])*100) + n))\n",
    "        #print(int(data[i][j]))\n",
    "        response = requests.get('http://155.230.25.126:11066/arduino?sqltype1=insertvalue&table1=seoul&where1=seoul&value1=' + str(int(data[i][j])) + '&time=0' + str((int(date[i])*100) + n)).text\n",
    "        n += 1"
   ]
  },
  {
   "cell_type": "code",
   "execution_count": 17,
   "metadata": {},
   "outputs": [
    {
     "ename": "SyntaxError",
     "evalue": "invalid syntax (<ipython-input-17-0133a7774520>, line 7)",
     "output_type": "error",
     "traceback": [
      "\u001b[1;36m  File \u001b[1;32m\"<ipython-input-17-0133a7774520>\"\u001b[1;36m, line \u001b[1;32m7\u001b[0m\n\u001b[1;33m    response = requests.get('http://155.230.25.126:11066/arduino?sqltype1=insertvalue&table1=dduk&where1=dduk&value1=' + str(int(data[i][j])) '&time=1118').text\u001b[0m\n\u001b[1;37m                                                                                                                                                         ^\u001b[0m\n\u001b[1;31mSyntaxError\u001b[0m\u001b[1;31m:\u001b[0m invalid syntax\n"
     ]
    }
   ],
   "source": [
    "import requests                  # 웹 페이지의 HTML을 가져오는 모듈\n",
    "from bs4 import BeautifulSoup    # HTML을 파싱하는 모듈\n",
    " \n",
    "dataTemp = []\n",
    "    \n",
    "# 웹 페이지를 가져온 뒤 BeautifulSoup 객체로 만듦\n",
    "response = requests.get('http://155.230.25.126:11066/arduino?sqltype1=insertvalue&table1=dduk&where1=dduk&value1=' + str(int(data[i][j])) + '&time=0'+str((int(date[i][j])*100) + n )).text\n",
    "\n"
   ]
  },
  {
   "cell_type": "code",
   "execution_count": null,
   "metadata": {},
   "outputs": [],
   "source": []
  }
 ],
 "metadata": {
  "kernelspec": {
   "display_name": "Python 3",
   "language": "python",
   "name": "python3"
  },
  "language_info": {
   "codemirror_mode": {
    "name": "ipython",
    "version": 3
   },
   "file_extension": ".py",
   "mimetype": "text/x-python",
   "name": "python",
   "nbconvert_exporter": "python",
   "pygments_lexer": "ipython3",
   "version": "3.6.8"
  }
 },
 "nbformat": 4,
 "nbformat_minor": 2
}
